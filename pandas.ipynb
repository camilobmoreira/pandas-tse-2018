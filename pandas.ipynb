{
 "cells": [
  {
   "cell_type": "code",
   "execution_count": 1,
   "metadata": {},
   "outputs": [],
   "source": [
    "import pandas as pd\n",
    "import matplotlib.pyplot as plt\n",
    "from pandas import Series, DataFrame\n",
    "import os"
   ]
  },
  {
   "cell_type": "code",
   "execution_count": 3,
   "metadata": {},
   "outputs": [
    {
     "data": {
      "text/plain": [
       "[SG_PARTIDO\n",
       " #NULO#    3750855\n",
       " DC         280852\n",
       " MDB       1799667\n",
       " NOVO      1502733\n",
       " PATRI     1606847\n",
       " PDT       1954550\n",
       " PODE      1260512\n",
       " PPL         77747\n",
       " PSDB      1862971\n",
       " PSL       1946157\n",
       " PSOL      1449274\n",
       " PSTU       228419\n",
       " PT        1958878\n",
       " REDE      1744522\n",
       " dtype: int64, SG_PARTIDO\n",
       " #NULO#    8452711\n",
       " DC         334954\n",
       " MDB       4321267\n",
       " NOVO      2593895\n",
       " PATRI     3474191\n",
       " PDT       4367015\n",
       " PODE      2131564\n",
       " PPL        265275\n",
       " PSDB      4377712\n",
       " PSL       4392791\n",
       " PSOL      3055015\n",
       " PSTU       626333\n",
       " PT        4401798\n",
       " REDE      3485370\n",
       " dtype: int64, SG_PARTIDO\n",
       " #NULO#    1783649\n",
       " DC          58027\n",
       " MDB        840642\n",
       " NOVO       793321\n",
       " PATRI      693495\n",
       " PDT        912123\n",
       " PODE       752081\n",
       " PPL         32231\n",
       " PSDB       910021\n",
       " PSL        912985\n",
       " PSOL       619522\n",
       " PSTU        98410\n",
       " PT         913340\n",
       " REDE       664893\n",
       " dtype: int64, SG_PARTIDO\n",
       " #NULO#    1552421\n",
       " DC          51843\n",
       " MDB        616061\n",
       " NOVO       548113\n",
       " PATRI      601397\n",
       " PDT        829264\n",
       " PODE       384351\n",
       " PPL         35140\n",
       " PSDB       818342\n",
       " PSL        830478\n",
       " PSOL       412670\n",
       " PSTU        49892\n",
       " PT         831599\n",
       " REDE       660361\n",
       " dtype: int64, SG_PARTIDO\n",
       " #NULO#    842216\n",
       " DC         51187\n",
       " MDB       398479\n",
       " NOVO      207870\n",
       " PATRI     329014\n",
       " PDT       440112\n",
       " PODE      234048\n",
       " PPL        24859\n",
       " PSDB      442911\n",
       " PSL       443524\n",
       " PSOL      241015\n",
       " PSTU       18170\n",
       " PT        443634\n",
       " REDE      409873\n",
       " dtype: int64, SG_PARTIDO\n",
       " #NULO#    533844\n",
       " DC         25851\n",
       " MDB       259578\n",
       " NOVO      227806\n",
       " PATRI     242371\n",
       " PDT       283608\n",
       " PODE      195707\n",
       " PPL        17530\n",
       " PSDB      286086\n",
       " PSL       285667\n",
       " PSOL      233867\n",
       " PSTU       34999\n",
       " PT        287146\n",
       " REDE      256096\n",
       " dtype: int64, SG_PARTIDO\n",
       " #NULO#    813657\n",
       " DC         58626\n",
       " MDB       398425\n",
       " NOVO      366163\n",
       " PATRI     403030\n",
       " PDT       426201\n",
       " PODE      240014\n",
       " PPL        21252\n",
       " PSDB      424366\n",
       " PSL       426476\n",
       " PSOL      381480\n",
       " PSTU      123093\n",
       " PT        426620\n",
       " REDE      409148\n",
       " dtype: int64]"
      ]
     },
     "execution_count": 3,
     "metadata": {},
     "output_type": "execute_result"
    }
   ],
   "source": [
    "FILES_LOCATION = './boletins/'\n",
    "files = os.listdir(FILES_LOCATION)\n",
    "soma_votos_partido = []\n",
    "for file in files:\n",
    "    f = pd.read_csv(FILES_LOCATION + file, encoding='ISO-8859-1', delimiter=';')\n",
    "    soma_votos_partido.append(f.query('DS_CARGO_PERGUNTA == \"Presidente\"').groupby(['SG_PARTIDO']).apply(lambda x: x['QT_COMPARECIMENTO'].sum()))\n",
    "soma_votos_partido"
   ]
  },
  {
   "cell_type": "code",
   "execution_count": 4,
   "metadata": {},
   "outputs": [
    {
     "data": {
      "text/plain": [
       "{'#NULO#': 17729353,\n",
       " 'DC': 861340,\n",
       " 'MDB': 8634119,\n",
       " 'NOVO': 6239901,\n",
       " 'PATRI': 7350345,\n",
       " 'PDT': 9212873,\n",
       " 'PODE': 5198277,\n",
       " 'PPL': 474034,\n",
       " 'PSDB': 9122409,\n",
       " 'PSL': 9238078,\n",
       " 'PSOL': 6392843,\n",
       " 'PSTU': 1179316,\n",
       " 'PT': 9263015,\n",
       " 'REDE': 7630263}"
      ]
     },
     "execution_count": 4,
     "metadata": {},
     "output_type": "execute_result"
    }
   ],
   "source": [
    "resultado = {}\n",
    "for value in soma_votos_partido:\n",
    "    for key in value.keys():\n",
    "        if key in resultado:\n",
    "            resultado[key] = value[key] + resultado[key]\n",
    "        else:\n",
    "            resultado[key] = value[key]\n",
    "resultado"
   ]
  },
  {
   "cell_type": "code",
   "execution_count": 5,
   "metadata": {},
   "outputs": [
    {
     "data": {
      "text/plain": [
       "#NULO#    17729353\n",
       "DC          861340\n",
       "MDB        8634119\n",
       "NOVO       6239901\n",
       "PATRI      7350345\n",
       "PDT        9212873\n",
       "PODE       5198277\n",
       "PPL         474034\n",
       "PSDB       9122409\n",
       "PSL        9238078\n",
       "PSOL       6392843\n",
       "PSTU       1179316\n",
       "PT         9263015\n",
       "REDE       7630263\n",
       "dtype: int64"
      ]
     },
     "execution_count": 5,
     "metadata": {},
     "output_type": "execute_result"
    }
   ],
   "source": [
    "soma_votos_partido = Series(resultado, index=resultado.keys())\n",
    "soma_votos_partido"
   ]
  },
  {
   "cell_type": "code",
   "execution_count": 6,
   "metadata": {},
   "outputs": [
    {
     "data": {
      "image/png": "[encoded data removed]",
      "text/plain": [
       "<Figure size 432x288 with 1 Axes>"
      ]
     },
     "metadata": {},
     "output_type": "display_data"
    }
   ],
   "source": [
    "plt.axis('equal')\n",
    "plt.pie(soma_votos_partido.values, autopct=\"%.2f\",\n",
    "        labels=soma_votos_partido.keys())\n",
    "plt.suptitle(\"Total de votos por partido\")\n",
    "plt.show()"
   ]
  }
 ],
 "metadata": {
  "kernelspec": {
   "display_name": "Python 3",
   "language": "python",
   "name": "python3"
  },
  "language_info": {
   "codemirror_mode": {
    "name": "ipython",
    "version": 3
   },
   "file_extension": ".py",
   "mimetype": "text/x-python",
   "name": "python",
   "nbconvert_exporter": "python",
   "pygments_lexer": "ipython3",
   "version": "3.6.6"
  }
 },
 "nbformat": 4,
 "nbformat_minor": 2
}
