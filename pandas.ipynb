{
 "cells": [
  {
   "cell_type": "code",
   "execution_count": null,
   "metadata": {},
   "outputs": [],
   "source": [
    "import pandas as pd\n",
    "import matplotlib.pyplot as plt\n",
    "from pandas import Series, DataFrame"
   ]
  },
  {
   "cell_type": "code",
   "execution_count": null,
   "metadata": {},
   "outputs": [],
   "source": [
    "f = pd.read_csv('../boletim_urnas_AC.csv', encoding='ISO-8859-1', delimiter=';')\n",
    "f.columns"
   ]
  },
  {
   "cell_type": "code",
   "execution_count": null,
   "metadata": {},
   "outputs": [],
   "source": [
    "soma_votos_partido = f.loc(f['DS_CARGO_PERGUNTA'] == 'PRESIDENTE').groupby(['SG_PARTIDO']).apply(lambda x: x['QT_COMPARECIMENTO'].sum())\n",
    "soma_votos_partido"
   ]
  },
  {
   "cell_type": "code",
   "execution_count": null,
   "metadata": {},
   "outputs": [],
   "source": [
    "plt.axis('equal')\n",
    "plt.pie(soma_votos_partido.values, autopct=\"%.2f\",\n",
    "        labels=soma_votos_partido.keys())\n",
    "plt.suptitle(\"Total de votos por partido\")\n",
    "\n",
    "plt.show()"
   ]
  },
  {
   "cell_type": "code",
   "execution_count": null,
   "metadata": {},
   "outputs": [],
   "source": [
    "soma_votos_nominais = f.groupby(['DS_CARGO_PERGUNTA','SG_PARTIDO']).apply(lambda x: x['QT_COMPARECIMENTO'].sum())"
   ]
  }
 ],
 "metadata": {
  "kernelspec": {
   "display_name": "Python 3",
   "language": "python",
   "name": "python3"
  },
  "language_info": {
   "codemirror_mode": {
    "name": "ipython",
    "version": 3
   },
   "file_extension": ".py",
   "mimetype": "text/x-python",
   "name": "python",
   "nbconvert_exporter": "python",
   "pygments_lexer": "ipython3",
   "version": "3.6.6"
  }
 },
 "nbformat": 4,
 "nbformat_minor": 2
}
