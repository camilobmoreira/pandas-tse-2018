{
 "cells": [
  {
   "cell_type": "code",
   "execution_count": null,
   "metadata": {},
   "outputs": [],
   "source": [
    "import pandas as pd\n",
    "import matplotlib.pyplot as plt\n",
    "from pandas import Series, DataFrame\n",
    "import os"
   ]
  },
  {
   "cell_type": "code",
   "execution_count": null,
   "metadata": {},
   "outputs": [],
   "source": [
    "FILES_LOCATION = '../boletins'"
   ]
  },
  {
   "cell_type": "code",
   "execution_count": null,
   "metadata": {},
   "outputs": [],
   "source": [
    "files = os.listdir(FILES_LOCATION)\n",
    "soma_votos_partido = []\n",
    "for file in files:\n",
    "    f = pd.read_csv(FILES_LOCATION + file, encoding='ISO-8859-1', delimiter=';')\n",
    "    soma_votos_partido.append(f.query('DS_CARGO_PERGUNTA == \"Presidente\"').groupby(['SG_PARTIDO']).apply(lambda x: x['QT_COMPARECIMENTO'].sum()))\n",
    "soma_votos_partido"
   ]
  },
  {
   "cell_type": "code",
   "execution_count": null,
   "metadata": {},
   "outputs": [],
   "source": [
    "resultado = {}\n",
    "for value in soma_votos_partido:\n",
    "    for key in value.keys():\n",
    "        if key in resultado:\n",
    "            resultado[key] = value[key] + resultado[key]\n",
    "        else:\n",
    "            resultado[key] = value[key]\n",
    "resultado"
   ]
  },
  {
   "cell_type": "code",
   "execution_count": null,
   "metadata": {},
   "outputs": [],
   "source": [
    "soma_votos_partido = Series(resultado, index=resultado.keys())\n",
    "soma_votos_partido"
   ]
  },
  {
   "cell_type": "code",
   "execution_count": null,
   "metadata": {},
   "outputs": [],
   "source": [
    "plt.axis('equal')\n",
    "plt.pie(soma_votos_partido.values, autopct=\"%.2f\",\n",
    "        labels=soma_votos_partido.keys())\n",
    "plt.suptitle(\"Total de votos por partido\")\n",
    "plt.show()"
   ]
  }
 ],
 "metadata": {
  "kernelspec": {
   "display_name": "Python 3",
   "language": "python",
   "name": "python3"
  },
  "language_info": {
   "codemirror_mode": {
    "name": "ipython",
    "version": 3
   },
   "file_extension": ".py",
   "mimetype": "text/x-python",
   "name": "python",
   "nbconvert_exporter": "python",
   "pygments_lexer": "ipython3",
   "version": "3.6.6"
  }
 },
 "nbformat": 4,
 "nbformat_minor": 2
}
